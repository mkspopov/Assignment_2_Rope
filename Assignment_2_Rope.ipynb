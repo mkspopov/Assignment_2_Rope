{
 "cells": [
  {
   "cell_type": "markdown",
   "id": "2b670383",
   "metadata": {},
   "source": [
    "# Text editor\n",
    "\n",
    "#### Given a text `T` and a `position` of a caret in the text.\n",
    "\n",
    "You need to provide several functions for editing the text. A user can edit the text by inserting and removing strings of english letters and spaces. You always know the current position of the caret in the text. The user can change the position of the caret. More precisely:\n",
    "\n",
    "1) The text `T` is given. It is a string and might be empty.\n",
    "\n",
    "2) The position of the caret is known and satisfies `0 <= position <= len(T)`.\n",
    "\n",
    "3) The user can insert a string `S` starting from the position of the caret. For instance, `T = \"abc\", position = 1, S = \"df\"`. The resulting text after insertion is `\"adfbc\"`.\n",
    "\n",
    "4) The user can remove a single symbol. For instance, `T = \"abc\", position = 1`. The resulting text after deletion is `\"bc\"`. Another example, `T = \"abc\", position = 0`, the result `\"abc\"`. So, no deletion occurs when position of the caret is zero.\n",
    "\n",
    "5) The user can remove a word. A word is a sequence of letters without spaces or a sequence of spaces without letters. For instance, `T = \"abc de\", position = 3, result = \" de\"`. 2nd example, `T = \"abc de\", position = 4, result = \"abcde\"`. 3rd example `T = \"f abc de\", position = 4, result = \"f c de\"`. No deletion occurs when the position of the caret is zero.\n",
    "\n",
    "6) The user can change the position of the caret by `n`. For instance, `position = 10, n = 5, resulting position = 15`. 2nd example, `position = 10, n = -20, resulting position = 0`. 3rd example, `position = 10, n = 5, len(T) = 14, resulting position = 14`.\n",
    "\n",
    "7) The user can ask for a substring `[i, j)` of the text. For instance, `T = \"ab cdef gh\", i = 5, j = 9, result = \"ef g\"`. `T` is not modified in this method.\n",
    "\n",
    "#### The task: implement the methods of the class according to their description. Please, provide plenty of unit tests with small texts and stress tests with huge texts of length > 10000. In these tests you need to check that Substr provides correct answers after any number of any of the above operations.\n",
    "\n",
    "Hint: try to use [Rope](https://en.wikipedia.org/wiki/Rope_(data_structure))."
   ]
  },
  {
   "cell_type": "code",
   "execution_count": 6,
   "id": "4607aef6",
   "metadata": {},
   "outputs": [],
   "source": [
    "class Editor:\n",
    "    def __init__(self, text, caret):\n",
    "        pass\n",
    "\n",
    "    def Insert(self, string):\n",
    "        pass\n",
    "\n",
    "    def RemoveSymbol(self):\n",
    "        pass\n",
    "\n",
    "    def RemoveWord(self):\n",
    "        pass\n",
    "\n",
    "    def MoveCaret(self, n):\n",
    "        pass\n",
    "\n",
    "    def Substr(self, i, j):\n",
    "        pass"
   ]
  },
  {
   "cell_type": "code",
   "execution_count": 7,
   "id": "c4318305",
   "metadata": {},
   "outputs": [],
   "source": [
    "\"\"\" Example of one unit test \"\"\"\n",
    "\n",
    "def UnitTest():\n",
    "    T = \"abc\"\n",
    "    caret = 2\n",
    "    editor = Editor(T, caret)\n",
    "    editor.Insert(\"aaaa\")\n",
    "    editor.MoveCaret(10)\n",
    "    editor.RemoveSymbol()\n",
    "    assert editor.Substr(0, 3) == \"aba\""
   ]
  }
 ],
 "metadata": {
  "kernelspec": {
   "display_name": "Python 3",
   "language": "python",
   "name": "python3"
  },
  "language_info": {
   "codemirror_mode": {
    "name": "ipython",
    "version": 3
   },
   "file_extension": ".py",
   "mimetype": "text/x-python",
   "name": "python",
   "nbconvert_exporter": "python",
   "pygments_lexer": "ipython3",
   "version": "3.8.10"
  }
 },
 "nbformat": 4,
 "nbformat_minor": 5
}
